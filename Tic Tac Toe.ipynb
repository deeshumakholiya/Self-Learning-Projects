{
 "cells": [
  {
   "cell_type": "code",
   "execution_count": 1,
   "id": "15da470b",
   "metadata": {},
   "outputs": [],
   "source": [
    "from IPython.display import clear_output\n",
    "\n",
    "def display_board(board):\n",
    "    clear_output()\n",
    "    \n",
    "    print(' |   |  ')\n",
    "    print('' + board[7] + '|' + ' ' + board[8] + ' ' + '|' + ' ' + board[9])\n",
    "    print('_ _ _ _')\n",
    "    print(' |   |  ')\n",
    "    print('' + board[4] + '|' + ' ' + board[5] + ' ' + '|' + ' ' + board[6])\n",
    "    print('_ _ _ _')\n",
    "    print(' |   |  ')\n",
    "    print('' + board[1] + '|' + ' ' + board[2] + ' ' + '|' + ' ' + board[3])"
   ]
  },
  {
   "cell_type": "code",
   "execution_count": 2,
   "id": "0490dc33",
   "metadata": {},
   "outputs": [
    {
     "name": "stdout",
     "output_type": "stream",
     "text": [
      " |   |  \n",
      "X| O | X\n",
      "_ _ _ _\n",
      " |   |  \n",
      "O| X | O\n",
      "_ _ _ _\n",
      " |   |  \n",
      "X| O | X\n"
     ]
    }
   ],
   "source": [
    "test_board = ['#','X','O','X','O','X','O','X','O','X']\n",
    "display_board(test_board)"
   ]
  },
  {
   "cell_type": "code",
   "execution_count": 3,
   "id": "b6b804f4",
   "metadata": {},
   "outputs": [],
   "source": [
    "def player_input(): \n",
    "    #Taking player input and assigning marker as X or O\n",
    "    marker = ''\n",
    "    \n",
    "    while marker != 'X' or marker != 'O':\n",
    "        ask = input('Player 1 : Choose either X or O: ').upper()\n",
    "        \n",
    "        if marker == 'X':\n",
    "            return ('X','O')\n",
    "        else:\n",
    "            return ('O','X')\n",
    "                    "
   ]
  },
  {
   "cell_type": "code",
   "execution_count": 4,
   "id": "30b62c24",
   "metadata": {},
   "outputs": [
    {
     "name": "stdout",
     "output_type": "stream",
     "text": [
      "Player 1 : Choose either X or O: X\n"
     ]
    },
    {
     "data": {
      "text/plain": [
       "('O', 'X')"
      ]
     },
     "execution_count": 4,
     "metadata": {},
     "output_type": "execute_result"
    }
   ],
   "source": [
    "player_input()"
   ]
  },
  {
   "cell_type": "code",
   "execution_count": 5,
   "id": "2c7a29b6",
   "metadata": {},
   "outputs": [],
   "source": [
    "def place_marker(board, marker, position):\n",
    "    #placing the marker in desired position\n",
    "    board[position] = marker"
   ]
  },
  {
   "cell_type": "code",
   "execution_count": 6,
   "id": "b8ad7aeb",
   "metadata": {},
   "outputs": [
    {
     "name": "stdout",
     "output_type": "stream",
     "text": [
      " |   |  \n",
      "X| O | X\n",
      "_ _ _ _\n",
      " |   |  \n",
      "O| % | O\n",
      "_ _ _ _\n",
      " |   |  \n",
      "X| O | X\n"
     ]
    }
   ],
   "source": [
    "place_marker(test_board, '%', 5)\n",
    "display_board(test_board)"
   ]
  },
  {
   "cell_type": "code",
   "execution_count": 7,
   "id": "60940344",
   "metadata": {},
   "outputs": [],
   "source": [
    "def check_win(board, mark):\n",
    "    #check to see if mark won\n",
    "    return (\n",
    "    #all rows:\n",
    "    (board[1] == board[2] == board[3] == mark) or\n",
    "    (board[4] == board[5] == board[6] == mark) or \n",
    "    (board[7] == board[8] == board[9] == mark) or\n",
    "    #all columns\n",
    "    (board[1] == board[4] == board[7] == mark) or \n",
    "    (board[2] == board[5] == board[8] == mark) or \n",
    "    (board[3] == board[6] == board[9] == mark) or\n",
    "    #all diagonals\n",
    "    (board[1] == board[5] == board[9] == mark) or \n",
    "    (board[7] == board[5] == board[3] == mark)\n",
    "    )"
   ]
  },
  {
   "cell_type": "code",
   "execution_count": 8,
   "id": "f4a4d61c",
   "metadata": {},
   "outputs": [
    {
     "name": "stdout",
     "output_type": "stream",
     "text": [
      " |   |  \n",
      "X| O | X\n",
      "_ _ _ _\n",
      " |   |  \n",
      "O| % | O\n",
      "_ _ _ _\n",
      " |   |  \n",
      "X| O | X\n"
     ]
    },
    {
     "data": {
      "text/plain": [
       "False"
      ]
     },
     "execution_count": 8,
     "metadata": {},
     "output_type": "execute_result"
    }
   ],
   "source": [
    "display_board(test_board)\n",
    "check_win(test_board, 'X')"
   ]
  },
  {
   "cell_type": "code",
   "execution_count": 9,
   "id": "c4aee4a0",
   "metadata": {},
   "outputs": [],
   "source": [
    "import random\n",
    "\n",
    "#randomly decide which player will go first\n",
    "\n",
    "def choose_player():\n",
    "    flip = random.randint(0,1)\n",
    "    if flip == 0:\n",
    "        return 'Player 2'\n",
    "    else:\n",
    "        return 'Player 1'\n",
    "    "
   ]
  },
  {
   "cell_type": "code",
   "execution_count": 10,
   "id": "d901f09a",
   "metadata": {},
   "outputs": [],
   "source": [
    "def check_space(board, position):\n",
    "    #check if any space free in board\n",
    "    return board[position] == ' '"
   ]
  },
  {
   "cell_type": "code",
   "execution_count": 11,
   "id": "dca280c7",
   "metadata": {},
   "outputs": [],
   "source": [
    "def check_full(board):\n",
    "    #check if the board is full\n",
    "    for i in range(1,10):\n",
    "        if check_space(board, i):\n",
    "            return False\n",
    "        else:\n",
    "            return True #if full"
   ]
  },
  {
   "cell_type": "code",
   "execution_count": 12,
   "id": "f32a793a",
   "metadata": {},
   "outputs": [],
   "source": [
    "def player_choice(board):\n",
    "    #ask player's next position\n",
    "    position = 0\n",
    "    while position not in [1,2,3,4,5,6,7,8,9] or not check_space(board, position):\n",
    "        position = int(input('Chose position between 1-9: '))\n",
    "    \n",
    "    return position"
   ]
  },
  {
   "cell_type": "code",
   "execution_count": 13,
   "id": "79002a3c",
   "metadata": {},
   "outputs": [],
   "source": [
    "def replay_game():\n",
    "    #if want to replay game\n",
    "    choice = input('Play again: y or n : ').lower()\n",
    "    if choice == 'y':\n",
    "        return True\n",
    "    else:\n",
    "        return print('Thanks for playing')"
   ]
  },
  {
   "cell_type": "code",
   "execution_count": 14,
   "id": "7e6681f7",
   "metadata": {},
   "outputs": [
    {
     "name": "stdout",
     "output_type": "stream",
     "text": [
      " |   |  \n",
      " | X |  \n",
      "_ _ _ _\n",
      " |   |  \n",
      " | X | O\n",
      "_ _ _ _\n",
      " |   |  \n",
      " | X | O\n",
      "Player 2 won!!\n",
      "Play again: y or n : n\n",
      "Thanks for playing\n"
     ]
    }
   ],
   "source": [
    "print('Welcome to Tic Tac Toe game ')\n",
    "\n",
    "while True:\n",
    "    the_board = [' ']*10 #resetting the game\n",
    "    player1_input, player2_input = player_input() \n",
    "    \n",
    "    turn = choose_player()\n",
    "    print(turn + ' will play first.')\n",
    "    \n",
    "    play_game = input('Ready to play: y or n :')\n",
    "    if play_game.lower()[0] == 'y':\n",
    "        game_on = True\n",
    "    else:\n",
    "        game_on = False\n",
    "        \n",
    "    while game_on:\n",
    "        #player 1:\n",
    "        if turn == 'Player 1':\n",
    "            display_board(the_board) #show board\n",
    "            position = player_choice(the_board) #choose a position\n",
    "            place_marker(the_board, player1_input, position) #place marker in position\n",
    "            \n",
    "            if check_win(the_board, player1_input): #check if winning\n",
    "                display_board(the_board)\n",
    "                print('Player 1 won!!')\n",
    "                game_on = False\n",
    "            else:\n",
    "                if check_full(the_board):\n",
    "                    display_board(the_board)\n",
    "                    print('This match is a tie!')\n",
    "                    break\n",
    "                else: \n",
    "                    turn = 'Player 2'\n",
    "            \n",
    "        else:\n",
    "             #player 2:\n",
    "            display_board(the_board)\n",
    "            position = player_choice(the_board)\n",
    "            place_marker(the_board, player2_input, position)\n",
    "            \n",
    "            if check_win(the_board, player2_input):\n",
    "                display_board(the_board)\n",
    "                print('Player 2 won!!')\n",
    "                game_on = False\n",
    "            else:\n",
    "                if check_full(the_board):\n",
    "                    display_board(the_board)\n",
    "                    print('This match is a tie!')\n",
    "                    break\n",
    "                else: \n",
    "                    turn = 'Player 1'\n",
    "\n",
    "    if not replay_game():\n",
    "        break\n",
    "        \n",
    "    "
   ]
  },
  {
   "cell_type": "code",
   "execution_count": null,
   "id": "c437946a",
   "metadata": {},
   "outputs": [],
   "source": []
  }
 ],
 "metadata": {
  "kernelspec": {
   "display_name": "Python 3",
   "language": "python",
   "name": "python3"
  },
  "language_info": {
   "codemirror_mode": {
    "name": "ipython",
    "version": 3
   },
   "file_extension": ".py",
   "mimetype": "text/x-python",
   "name": "python",
   "nbconvert_exporter": "python",
   "pygments_lexer": "ipython3",
   "version": "3.8.8"
  }
 },
 "nbformat": 4,
 "nbformat_minor": 5
}
