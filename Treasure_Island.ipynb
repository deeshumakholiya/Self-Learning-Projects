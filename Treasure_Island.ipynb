{
  "nbformat": 4,
  "nbformat_minor": 0,
  "metadata": {
    "colab": {
      "provenance": []
    },
    "kernelspec": {
      "name": "python3",
      "display_name": "Python 3"
    },
    "language_info": {
      "name": "python"
    }
  },
  "cells": [
    {
      "cell_type": "code",
      "execution_count": 2,
      "metadata": {
        "colab": {
          "base_uri": "https://localhost:8080/"
        },
        "id": "Ne141F1g-uPj",
        "outputId": "88d85ca2-96dd-41e6-c6d0-2d6406728657"
      },
      "outputs": [
        {
          "output_type": "stream",
          "name": "stdout",
          "text": [
            "\n",
            "*******************************************************************************\n",
            "          |                   |                  |                     |\n",
            " _________|________________.=\"\"_;=.______________|_____________________|_______\n",
            "|                   |  ,-\"_,=\"\"     `\"=.|                  |\n",
            "|___________________|__\"=._o`\"-._        `\"=.______________|___________________\n",
            "          |                `\"=._o`\"=._      _`\"=._                     |\n",
            " _________|_____________________:=._o \"=._.\"_.-=\"'\"=.__________________|_______\n",
            "|                   |    __.--\" , ; `\"=._o.\" ,-\"\"\"-._ \".   |\n",
            "|___________________|_._\"  ,. .` ` `` ,  `\"-._\"-._   \". '__|___________________\n",
            "          |           |o`\"=._` , \"` `; .\". ,  \"-._\"-._; ;              |\n",
            " _________|___________| ;`-.o`\"=._; .\" ` '`.\"\\` . \"-._ /_______________|_______\n",
            "|                   | |o;    `\"-.o`\"=._``  '` \" ,__.--o;   |\n",
            "|___________________|_| ;     (#) `-.o `\"=.`_.--\"_o.-; ;___|___________________\n",
            "____/______/______/___|o;._    \"      `\".o|o_.--\"    ;o;____/______/______/____\n",
            "/______/______/______/_\"=._o--._        ; | ;        ; ;/______/______/______/_\n",
            "____/______/______/______/__\"=._o--._   ;o|o;     _._;o;____/______/______/____\n",
            "/______/______/______/______/____\"=._o._; | ;_.--\"o.--\"_/______/______/______/_\n",
            "____/______/______/______/______/_____\"=.o|o_.--\"\"___/______/______/______/____\n",
            "/______/______/______/______/______/______/______/______/______/______/[TomekK]\n",
            "*******************************************************************************\n",
            "\n",
            "Welcome to Treasure Island.\n",
            "Your mission is to find the treasure\n",
            "\n",
            "While cleaning your old grandpa's house, you have found a long lost map of a treasure island. You decide to travel and find the treasure. You reach a island which is covered with dark dense forest. Deep in the jungle, you lost your way and start walking.\n",
            "\n",
            "You have reached a crossover. Where would you like to turn. Left or Right? \n",
            "Left\n",
            "You found a way which reaches to a river \n",
            "\n",
            "You have reached the river now. As river doesn't seem to be that deep, What would you like to do? Swim or Wait?\n",
            "Wait\n",
            "Wohoo! A small boat arrives which takes you to the other end of river.\n",
            "\n",
            " You found a big house which has 3 doors with three different colours. The treasure hides behind one door. What would you choose? Red or Yellow or Blue?\n",
            "Blue\n",
            "Oops :( You were aten by beasts.Game Over.\n",
            "\n"
          ]
        }
      ],
      "source": [
        "print('''\n",
        "*******************************************************************************\n",
        "          |                   |                  |                     |\n",
        " _________|________________.=\"\"_;=.______________|_____________________|_______\n",
        "|                   |  ,-\"_,=\"\"     `\"=.|                  |\n",
        "|___________________|__\"=._o`\"-._        `\"=.______________|___________________\n",
        "          |                `\"=._o`\"=._      _`\"=._                     |\n",
        " _________|_____________________:=._o \"=._.\"_.-=\"'\"=.__________________|_______\n",
        "|                   |    __.--\" , ; `\"=._o.\" ,-\"\"\"-._ \".   |\n",
        "|___________________|_._\"  ,. .` ` `` ,  `\"-._\"-._   \". '__|___________________\n",
        "          |           |o`\"=._` , \"` `; .\". ,  \"-._\"-._; ;              |\n",
        " _________|___________| ;`-.o`\"=._; .\" ` '`.\"\\` . \"-._ /_______________|_______\n",
        "|                   | |o;    `\"-.o`\"=._``  '` \" ,__.--o;   |\n",
        "|___________________|_| ;     (#) `-.o `\"=.`_.--\"_o.-; ;___|___________________\n",
        "____/______/______/___|o;._    \"      `\".o|o_.--\"    ;o;____/______/______/____\n",
        "/______/______/______/_\"=._o--._        ; | ;        ; ;/______/______/______/_\n",
        "____/______/______/______/__\"=._o--._   ;o|o;     _._;o;____/______/______/____\n",
        "/______/______/______/______/____\"=._o._; | ;_.--\"o.--\"_/______/______/______/_\n",
        "____/______/______/______/______/_____\"=.o|o_.--\"\"___/______/______/______/____\n",
        "/______/______/______/______/______/______/______/______/______/______/[TomekK]\n",
        "*******************************************************************************\n",
        "''')\n",
        "print(\"Welcome to Treasure Island.\\nYour mission is to find the treasure\\n\")\n",
        "print(\"While cleaning your old grandpa's house, you have found a long lost map of a treasure island. You decide to travel and find the treasure. You reach a island which is covered with dark dense forest. Deep in the jungle, you lost your way and start walking.\\n\")\n",
        "choice = input(\"You have reached a crossover. Where would you like to turn. Left or Right? \\n\")\n",
        "if choice.lower() == \"Right\":\n",
        "  print(\"Oops :( You fall into a hole. Game Over.\\n\")\n",
        "else:\n",
        "  print(\"You found a way which reaches to a river \\n\")\n",
        "  choice_1 = input(\"You have reached the river now. As river doesn't seem to be that deep, What would you like to do? Swim or Wait?\\n\")\n",
        "  if choice_1.lower() == \"Swim\":\n",
        "    print(\"Oops :( You were attacked by trout.Game Over.\\n\")\n",
        "  else:\n",
        "    print(\"Wohoo! A small boat arrives which takes you to the other end of river.\\n\")\n",
        "    choice_2 = input(\" You found a big house which has 3 doors with three different colours. The treasure hides behind one door. What would you choose? Red or Yellow or Blue?\\n\")\n",
        "    if choice_2.lower() == \"Red\":\n",
        "      print(\"Oops :(, You were Burned by fire.Game Over.\\n\")\n",
        "    elif choice_2 == \"Blue\":\n",
        "      print(\"Oops :( You were aten by beasts.Game Over.\\n\")\n",
        "    else:\n",
        "      print(\"Wohhooo, Congrats! You have found the treasure.  \")\n",
        "\n",
        "\n"
      ]
    }
  ]
}