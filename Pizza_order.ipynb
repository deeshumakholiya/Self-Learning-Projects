{
  "nbformat": 4,
  "nbformat_minor": 0,
  "metadata": {
    "colab": {
      "provenance": []
    },
    "kernelspec": {
      "name": "python3",
      "display_name": "Python 3"
    },
    "language_info": {
      "name": "python"
    }
  },
  "cells": [
    {
      "cell_type": "code",
      "execution_count": 3,
      "metadata": {
        "colab": {
          "base_uri": "https://localhost:8080/"
        },
        "id": "Ne141F1g-uPj",
        "outputId": "94b8d9ee-6f2d-4535-c641-368bbf633fb8"
      },
      "outputs": [
        {
          "output_type": "stream",
          "name": "stdout",
          "text": [
            "Thank you for choosing Python Pizza Deliveries!\n",
            "What size pizza do you want? S, M, or LS\n",
            "Do you want pepperoni? Y or NY\n",
            "Do you want extra cheese? Y or NY\n",
            "Your final bill is: $18.\n"
          ]
        }
      ],
      "source": [
        "print(\"Thank you for choosing Python Pizza Deliveries!\")\n",
        "size = input(\"What size pizza do you want? S, M, or L\")\n",
        "add_pepperoni = input(\"Do you want pepperoni? Y or N\")\n",
        "extra_cheese = input(\"Do you want extra cheese? Y or N\")\n",
        "\n",
        "S = 15\n",
        "M = 20\n",
        "L = 25\n",
        "bill = 0\n",
        "\n",
        "if size == \"S\" :\n",
        "  bill = S\n",
        "  if add_pepperoni == \"Y\":\n",
        "    bill =bill + 2\n",
        "\n",
        "if size == \"M\":\n",
        "  bill = M\n",
        "  if add_pepperoni == \"Y\":\n",
        "    bill = bill + 3\n",
        "\n",
        "if size == \"L\":\n",
        "  bill = L\n",
        "  if add_pepperoni == \"Y\":\n",
        "    bill = bill + 3\n",
        "\n",
        "if extra_cheese == \"Y\":\n",
        "     bill = bill + 1\n",
        "print(f\"Your final bill is: ${bill}.\")\n",
        "\n"
      ]
    }
  ]
}